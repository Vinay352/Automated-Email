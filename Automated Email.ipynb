{
 "cells": [
  {
   "cell_type": "code",
   "execution_count": 12,
   "metadata": {},
   "outputs": [
    {
     "name": "stdout",
     "output_type": "stream",
     "text": [
      "successfully sent email to parathaaalu90@gmail.com:\n"
     ]
    }
   ],
   "source": [
    "from email.mime.multipart import MIMEMultipart\n",
    "from email.mime.text import MIMEText\n",
    "from email.mime.image import MIMEImage\n",
    "import smtplib, os\n",
    "\n",
    "# create message object instance\n",
    "msg = MIMEMultipart()\n",
    "\n",
    "message = input('Enter the message that you want to send: ')\n",
    " \n",
    "# setup the parameters of the message\n",
    "password = input('Enter the password: ')\n",
    "msg['From'] = input('Enter the sender address: ')\n",
    "msg['To'] = input('Enter the recipient address: ')\n",
    "msg['Subject'] = input('Enter the subject: ')\n",
    " \n",
    "# add in the message body\n",
    "msg.attach(MIMEText(message, 'plain'))\n",
    "\n",
    "fp = open('paratha.jpg', 'rb')\n",
    "msgImage = MIMEImage(fp.read())\n",
    "fp.close()\n",
    "\n",
    "# Define the image's ID as referenced above\n",
    "msgImage.add_header('Content-ID', '<image1>')\n",
    "msg.attach(msgImage)\n",
    "\n",
    "# create server\n",
    "server = smtplib.SMTP('smtp.gmail.com: 587')\n",
    " \n",
    "server.starttls()\n",
    " \n",
    "# Login Credentials for sending the mail\n",
    "server.login(msg['From'], password)\n",
    " \n",
    " \n",
    "# send the message via the server.\n",
    "server.sendmail(msg['From'], msg['To'], msg.as_string())\n",
    " \n",
    "server.quit()\n",
    " \n",
    "print (\"successfully sent email to %s:\" % (msg['To']))"
   ]
  },
  {
   "cell_type": "code",
   "execution_count": null,
   "metadata": {},
   "outputs": [],
   "source": []
  }
 ],
 "metadata": {
  "kernelspec": {
   "display_name": "Python 3",
   "language": "python",
   "name": "python3"
  },
  "language_info": {
   "codemirror_mode": {
    "name": "ipython",
    "version": 3
   },
   "file_extension": ".py",
   "mimetype": "text/x-python",
   "name": "python",
   "nbconvert_exporter": "python",
   "pygments_lexer": "ipython3",
   "version": "3.6.8"
  }
 },
 "nbformat": 4,
 "nbformat_minor": 2
}
